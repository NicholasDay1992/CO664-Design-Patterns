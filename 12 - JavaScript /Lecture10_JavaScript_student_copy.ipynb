{
 "cells": [
  {
   "attachments": {},
   "cell_type": "markdown",
   "metadata": {},
   "source": [
    "# JavaScript in Jupyter #\n",
    "\n",
    "## <font color=\"green\">Special JavaScript addendum to core Python lecture series</font> ##\n",
    "\n",
    "![js_logo](https://www.freepnglogos.com/uploads/javascript-png/javascript-logo-transparent-logo-javascript-images-3.png) \n",
    "\n",
    "### Nick Day \n",
    "\n",
    "### January 2023\n"
   ]
  },
  {
   "attachments": {},
   "cell_type": "markdown",
   "metadata": {},
   "source": [
    "## Running JavaScript in Jupyter ##\n",
    "\n",
    "- Third party kernels are available for many languages and flavours of these.\n",
    "- Kernels are available for Java (several options), R, Julia, Matlab, Octave, Scheme, Processing, Scala and many more languages\n",
    "- Once installed, kernels may be switched at run time from the notebook Kernel\\Change kernel menu\n",
    "- Here we install the SciJava kernel through Anconda (https://anaconda.org/conda-forge/scijava-jupyter-kernel)\n",
    "    - Open Anaconda\n",
    "    - Run CMD.exe\n",
    "    - Enter \"**<font color=\"red\">conda install -c conda-forge/label/cf201901 scijava-jupyter-kernel</font>**\"\n",
    "    - Open a Jupyter notebook and specify kernel before or select afterwards\n",
    "    - If all goes well it will work out of-the-box\n",
    "    - Because 'Groovy' is a polyglot kernel offering support for many languages there may be incompatibilities\n",
    "     - ... including with various libraries \n",
    "     - ... and often with the 'main' method\n",
    "     - ... with core Java code, 'main(String[] args)' issues may be resolved by removing the class wrapping the main and also the main method\n",
    "     - ... see examples below\n"
   ]
  },
  {
   "attachments": {},
   "cell_type": "markdown",
   "metadata": {},
   "source": [
    "https://jakevdp.github.io/blog/2013/06/01/ipython-notebook-javascript-python-communication/"
   ]
  },
  {
   "cell_type": "code",
   "execution_count": 7,
   "metadata": {},
   "outputs": [
    {
     "name": "stdout",
     "output_type": "stream",
     "text": [
      "hello\n"
     ]
    }
   ],
   "source": [
    "print(\"hello\")"
   ]
  },
  {
   "cell_type": "code",
   "execution_count": 18,
   "metadata": {
    "vscode": {
     "languageId": "javascript"
    }
   },
   "outputs": [
    {
     "data": {
      "application/javascript": "\n// Function that accepts a string of code\nvar create_and_execute_cell_below = function (code){\n    var nb = Jupyter.notebook\n\n    // create cell below this one\n    nb.insert_cell_below()\n\n    // select cell below (the one we have created)\n    var cell = nb.select_next().get_selected_cell()\n\n    // set text in the cell\n    cell.set_text(code)\n\n    // execute cell\n    cell.execute()\n}\n\n// run the function created above with code 'k = 1'\n// and it will create a new cell, filled with 'k = 1'\n// and it will execute that cell.\n// if you run this cell using [ctrl] + [enter] only one cell\n// will be created.\n// if you run this cell using [Shift] + [enter] two cells\n// will be created, the one of the [Shift] + [enter] command\n// and the one of the function created above with the code.\ncreate_and_execute_cell_below('k = 1')\n",
      "text/plain": [
       "<IPython.core.display.Javascript object>"
      ]
     },
     "metadata": {},
     "output_type": "display_data"
    }
   ],
   "source": [
    "%%javascript\n",
    "\n",
    "// Function that accepts a string of code\n",
    "var create_and_execute_cell_below = function (code){\n",
    "    var nb = Jupyter.notebook\n",
    "\n",
    "    // create cell below this one\n",
    "    nb.insert_cell_below()\n",
    "\n",
    "    // select cell below (the one we have created)\n",
    "    var cell = nb.select_next().get_selected_cell()\n",
    "\n",
    "    // set text in the cell\n",
    "    cell.set_text(code)\n",
    "\n",
    "    // execute cell\n",
    "    cell.execute()\n",
    "}\n",
    "\n",
    "// run the function created above with code 'k = 1'\n",
    "// and it will create a new cell, filled with 'k = 1'\n",
    "// and it will execute that cell.\n",
    "// if you run this cell using [ctrl] + [enter] only one cell\n",
    "// will be created.\n",
    "// if you run this cell using [Shift] + [enter] two cells\n",
    "// will be created, the one of the [Shift] + [enter] command\n",
    "// and the one of the function created above with the code.\n",
    "create_and_execute_cell_below('k = 1')"
   ]
  },
  {
   "cell_type": "code",
   "execution_count": 1,
   "metadata": {},
   "outputs": [
    {
     "ename": "SyntaxError",
     "evalue": "invalid syntax (3449246251.py, line 3)",
     "output_type": "error",
     "traceback": [
      "\u001b[0;36m  Cell \u001b[0;32mIn [1], line 3\u001b[0;36m\u001b[0m\n\u001b[0;31m    var kernel = IPython.notebook.kernel;\u001b[0m\n\u001b[0m        ^\u001b[0m\n\u001b[0;31mSyntaxError\u001b[0m\u001b[0;31m:\u001b[0m invalid syntax\n"
     ]
    }
   ],
   "source": [
    "from IPython.display import HTML\n",
    "\n",
    "var kernel = IPython.notebook.kernel;\n",
    "kernel.execute(command);"
   ]
  },
  {
   "cell_type": "code",
   "execution_count": 8,
   "metadata": {},
   "outputs": [
    {
     "data": {
      "text/html": [
       "\n",
       "<div style=\"background-color:gainsboro; border:solid black; width:300px; padding:20px;\">\n",
       "Variable Name: <input type=\"text\" id=\"var_name\" value=\"foo\"><br>\n",
       "Variable Value: <input type=\"text\" id=\"var_value\" value=\"bar\"><br>\n",
       "<button onclick=\"set_value()\">Set Value</button>\n",
       "</div>\n",
       "\n",
       "<script type=\"text/Javascript\">\n",
       "    function set_value(){\n",
       "        var var_name = document.getElementById('var_name').value;\n",
       "        var var_value = document.getElementById('var_value').value;\n",
       "        var command = var_name + \" = '\" + var_value + \"'\";\n",
       "        console.log(\"Executing Command: \" + command);\n",
       "        \n",
       "        var kernel = IPython.notebook.kernel;\n",
       "        kernel.execute(command);\n",
       "    }\n",
       "</script>\n"
      ],
      "text/plain": [
       "<IPython.core.display.HTML object>"
      ]
     },
     "execution_count": 8,
     "metadata": {},
     "output_type": "execute_result"
    }
   ],
   "source": [
    "from IPython.display import HTML\n",
    "\n",
    "input_form = \"\"\"\n",
    "<div style=\"background-color:gainsboro; border:solid black; width:300px; padding:20px;\">\n",
    "Variable Name: <input type=\"text\" id=\"var_name\" value=\"foo\"><br>\n",
    "Variable Value: <input type=\"text\" id=\"var_value\" value=\"bar\"><br>\n",
    "<button onclick=\"set_value()\">Set Value</button>\n",
    "</div>\n",
    "\"\"\"\n",
    "\n",
    "javascript = \"\"\"\n",
    "<script type=\"text/Javascript\">\n",
    "    function set_value(){\n",
    "        var var_name = document.getElementById('var_name').value;\n",
    "        var var_value = document.getElementById('var_value').value;\n",
    "        var command = var_name + \" = '\" + var_value + \"'\";\n",
    "        console.log(\"Executing Command: \" + command);\n",
    "        \n",
    "        var kernel = IPython.notebook.kernel;\n",
    "        kernel.execute(command);\n",
    "    }\n",
    "</script>\n",
    "\"\"\"\n",
    "HTML(input_form + javascript)"
   ]
  },
  {
   "cell_type": "code",
   "execution_count": 11,
   "metadata": {},
   "outputs": [
    {
     "ename": "SyntaxError",
     "evalue": "invalid syntax (2326933582.py, line 1)",
     "output_type": "error",
     "traceback": [
      "\u001b[0;36m  Input \u001b[0;32mIn [11]\u001b[0;36m\u001b[0m\n\u001b[0;31m    var kernel = IPython.notebook.kernel\u001b[0m\n\u001b[0m        ^\u001b[0m\n\u001b[0;31mSyntaxError\u001b[0m\u001b[0;31m:\u001b[0m invalid syntax\n"
     ]
    }
   ],
   "source": [
    "var kernel = IPython.notebook.kernel;\n",
    "function callback(out_type, out_data)\n",
    "{\n",
    "    // do_something\n",
    "}\n",
    "kernel.execute(command, {\"output\": callback});"
   ]
  },
  {
   "cell_type": "code",
   "execution_count": 12,
   "metadata": {},
   "outputs": [
    {
     "data": {
      "text/html": [
       "\n",
       "<div style=\"background-color:gainsboro; border:solid black; width:600px; padding:20px;\">\n",
       "Code: <input type=\"text\" id=\"code_input\" size=\"50\" height=\"2\" value=\"sin(pi / 2)\"><br>\n",
       "Result: <input type=\"text\" id=\"result_output\" size=\"50\" value=\"1.0\"><br>\n",
       "<button onclick=\"exec_code()\">Execute</button>\n",
       "</div>\n",
       "\n",
       "<script type=\"text/Javascript\">\n",
       "    function handle_output(out_type, out){\n",
       "        console.log(out_type);\n",
       "        console.log(out);\n",
       "        var res = null;\n",
       "         // if output is a print statement\n",
       "        if(out_type == \"stream\"){\n",
       "            res = out.data;\n",
       "        }\n",
       "        // if output is a python object\n",
       "        else if(out_type === \"pyout\"){\n",
       "            res = out.data[\"text/plain\"];\n",
       "        }\n",
       "        // if output is a python error\n",
       "        else if(out_type == \"pyerr\"){\n",
       "            res = out.ename + \": \" + out.evalue;\n",
       "        }\n",
       "        // if output is something we haven't thought of\n",
       "        else{\n",
       "            res = \"[out type not implemented]\";   \n",
       "        }\n",
       "        document.getElementById(\"result_output\").value = res;\n",
       "    }\n",
       "    \n",
       "    function exec_code(){\n",
       "        var code_input = document.getElementById('code_input').value;\n",
       "        var kernel = IPython.notebook.kernel;\n",
       "        var callbacks = {'output' : handle_output};\n",
       "        document.getElementById(\"result_output\").value = \"\";  // clear output box\n",
       "        var msg_id = kernel.execute(code_input, callbacks, {silent:false});\n",
       "        console.log(\"button pressed\");\n",
       "    }\n",
       "</script>\n"
      ],
      "text/plain": [
       "<IPython.core.display.HTML object>"
      ]
     },
     "execution_count": 12,
     "metadata": {},
     "output_type": "execute_result"
    }
   ],
   "source": [
    "# Add an input form similar to what we saw above\n",
    "input_form = \"\"\"\n",
    "<div style=\"background-color:gainsboro; border:solid black; width:600px; padding:20px;\">\n",
    "Code: <input type=\"text\" id=\"code_input\" size=\"50\" height=\"2\" value=\"sin(pi / 2)\"><br>\n",
    "Result: <input type=\"text\" id=\"result_output\" size=\"50\" value=\"1.0\"><br>\n",
    "<button onclick=\"exec_code()\">Execute</button>\n",
    "</div>\n",
    "\"\"\"\n",
    "\n",
    "# here the javascript has a function to execute the code\n",
    "# within the input box, and a callback to handle the output.\n",
    "javascript = \"\"\"\n",
    "<script type=\"text/Javascript\">\n",
    "    function handle_output(out_type, out){\n",
    "        console.log(out_type);\n",
    "        console.log(out);\n",
    "        var res = null;\n",
    "         // if output is a print statement\n",
    "        if(out_type == \"stream\"){\n",
    "            res = out.data;\n",
    "        }\n",
    "        // if output is a python object\n",
    "        else if(out_type === \"pyout\"){\n",
    "            res = out.data[\"text/plain\"];\n",
    "        }\n",
    "        // if output is a python error\n",
    "        else if(out_type == \"pyerr\"){\n",
    "            res = out.ename + \": \" + out.evalue;\n",
    "        }\n",
    "        // if output is something we haven't thought of\n",
    "        else{\n",
    "            res = \"[out type not implemented]\";   \n",
    "        }\n",
    "        document.getElementById(\"result_output\").value = res;\n",
    "    }\n",
    "    \n",
    "    function exec_code(){\n",
    "        var code_input = document.getElementById('code_input').value;\n",
    "        var kernel = IPython.notebook.kernel;\n",
    "        var callbacks = {'output' : handle_output};\n",
    "        document.getElementById(\"result_output\").value = \"\";  // clear output box\n",
    "        var msg_id = kernel.execute(code_input, callbacks, {silent:false});\n",
    "        console.log(\"button pressed\");\n",
    "    }\n",
    "</script>\n",
    "\"\"\"\n",
    "\n",
    "HTML(input_form + javascript)"
   ]
  },
  {
   "cell_type": "code",
   "execution_count": 13,
   "metadata": {},
   "outputs": [
    {
     "name": "stdout",
     "output_type": "stream",
     "text": [
      "%pylab is deprecated, use %matplotlib inline and import the required libraries.\n",
      "Populating the interactive namespace from numpy and matplotlib\n"
     ]
    }
   ],
   "source": [
    "%pylab inline"
   ]
  },
  {
   "cell_type": "code",
   "execution_count": 14,
   "metadata": {},
   "outputs": [
    {
     "ename": "ModuleNotFoundError",
     "evalue": "No module named 'cStringIO'",
     "output_type": "error",
     "traceback": [
      "\u001b[0;31m---------------------------------------------------------------------------\u001b[0m",
      "\u001b[0;31mModuleNotFoundError\u001b[0m                       Traceback (most recent call last)",
      "\u001b[1;32m/Users/nick/Documents/GitHub/CO664-Design-Patterns/12 - JavaScript /Lecture10_JavaScript_student_copy.ipynb Cell 10\u001b[0m in \u001b[0;36m<cell line: 2>\u001b[0;34m()\u001b[0m\n\u001b[1;32m      <a href='vscode-notebook-cell:/Users/nick/Documents/GitHub/CO664-Design-Patterns/12%20-%20JavaScript%20/Lecture10_JavaScript_student_copy.ipynb#X21sZmlsZQ%3D%3D?line=0'>1</a>\u001b[0m \u001b[39mfrom\u001b[39;00m \u001b[39mIPython\u001b[39;00m\u001b[39m.\u001b[39;00m\u001b[39mdisplay\u001b[39;00m \u001b[39mimport\u001b[39;00m HTML\n\u001b[0;32m----> <a href='vscode-notebook-cell:/Users/nick/Documents/GitHub/CO664-Design-Patterns/12%20-%20JavaScript%20/Lecture10_JavaScript_student_copy.ipynb#X21sZmlsZQ%3D%3D?line=1'>2</a>\u001b[0m \u001b[39mfrom\u001b[39;00m \u001b[39mcStringIO\u001b[39;00m \u001b[39mimport\u001b[39;00m StringIO\n\u001b[1;32m      <a href='vscode-notebook-cell:/Users/nick/Documents/GitHub/CO664-Design-Patterns/12%20-%20JavaScript%20/Lecture10_JavaScript_student_copy.ipynb#X21sZmlsZQ%3D%3D?line=3'>4</a>\u001b[0m \u001b[39m# We'll use HTML to create a control panel with an\u001b[39;00m\n\u001b[1;32m      <a href='vscode-notebook-cell:/Users/nick/Documents/GitHub/CO664-Design-Patterns/12%20-%20JavaScript%20/Lecture10_JavaScript_student_copy.ipynb#X21sZmlsZQ%3D%3D?line=4'>5</a>\u001b[0m \u001b[39m# empty image and a number of navigation buttons.\u001b[39;00m\n\u001b[1;32m      <a href='vscode-notebook-cell:/Users/nick/Documents/GitHub/CO664-Design-Patterns/12%20-%20JavaScript%20/Lecture10_JavaScript_student_copy.ipynb#X21sZmlsZQ%3D%3D?line=6'>7</a>\u001b[0m disp_html \u001b[39m=\u001b[39m \u001b[39m\"\"\"\u001b[39m\n\u001b[1;32m      <a href='vscode-notebook-cell:/Users/nick/Documents/GitHub/CO664-Design-Patterns/12%20-%20JavaScript%20/Lecture10_JavaScript_student_copy.ipynb#X21sZmlsZQ%3D%3D?line=7'>8</a>\u001b[0m \u001b[39m<div class=\u001b[39m\u001b[39m\"\u001b[39m\u001b[39manimation\u001b[39m\u001b[39m\"\u001b[39m\u001b[39m align=\u001b[39m\u001b[39m\"\u001b[39m\u001b[39mcenter\u001b[39m\u001b[39m\"\u001b[39m\u001b[39m>\u001b[39m\n\u001b[1;32m      <a href='vscode-notebook-cell:/Users/nick/Documents/GitHub/CO664-Design-Patterns/12%20-%20JavaScript%20/Lecture10_JavaScript_student_copy.ipynb#X21sZmlsZQ%3D%3D?line=8'>9</a>\u001b[0m \u001b[39m<img id=\u001b[39m\u001b[39m\"\u001b[39m\u001b[39manim_frame\u001b[39m\u001b[39m\"\u001b[39m\u001b[39m src=\u001b[39m\u001b[39m\"\u001b[39m\u001b[39m\"\u001b[39m\u001b[39m><br>\u001b[39m\n\u001b[0;32m   (...)\u001b[0m\n\u001b[1;32m     <a href='vscode-notebook-cell:/Users/nick/Documents/GitHub/CO664-Design-Patterns/12%20-%20JavaScript%20/Lecture10_JavaScript_student_copy.ipynb#X21sZmlsZQ%3D%3D?line=14'>15</a>\u001b[0m \u001b[39m</div>\u001b[39m\n\u001b[1;32m     <a href='vscode-notebook-cell:/Users/nick/Documents/GitHub/CO664-Design-Patterns/12%20-%20JavaScript%20/Lecture10_JavaScript_student_copy.ipynb#X21sZmlsZQ%3D%3D?line=15'>16</a>\u001b[0m \u001b[39m\"\"\"\u001b[39m\n",
      "\u001b[0;31mModuleNotFoundError\u001b[0m: No module named 'cStringIO'"
     ]
    }
   ],
   "source": [
    "from IPython.display import HTML\n",
    "from cStringIO import StringIO\n",
    "\n",
    "# We'll use HTML to create a control panel with an\n",
    "# empty image and a number of navigation buttons.\n",
    "\n",
    "disp_html = \"\"\"\n",
    "<div class=\"animation\" align=\"center\">\n",
    "<img id=\"anim_frame\" src=\"\"><br>\n",
    "<button onclick=\"prevFrame()\">Prev Frame</button>\n",
    "<button onclick=\"reverse()\">Reverse</button>\n",
    "<button onclick=\"pause()\">Pause</button>\n",
    "<button onclick=\"play()\">Play</button>\n",
    "<button onclick=\"nextFrame()\">Next Frame</button>\n",
    "</div>\n",
    "\"\"\"\n",
    "\n",
    "# now the javascript to drive it.  The nextFrame() and prevFrame()\n",
    "# functions will call the kernel and pull-down the frame which\n",
    "# is generated.  The play() and reverse() functions use timeouts\n",
    "# to repeatedly call nextFrame() and prevFrame().\n",
    "\n",
    "javascript = \"\"\"\n",
    "<script type=\"text/Javascript\">\n",
    "var count = -1;  // keep track of frame number\n",
    "var animating = 0;  // keep track of animation direction\n",
    "var timer = null;\n",
    "var kernel = IPython.notebook.kernel;\n",
    "\n",
    "function output(out_type, out){\n",
    "    data = out.data[\"text/plain\"];\n",
    "    document.getElementById(\"anim_frame\").src = data.substring(1, data.length - 1);\n",
    "    \n",
    "    if(animating > 0){\n",
    "        timer = setTimeout(nextFrame, 0);\n",
    "    }\n",
    "    else if(animating < 0){\n",
    "        timer = setTimeout(prevFrame, 0);\n",
    "    }\n",
    "}\n",
    "\n",
    "var callbacks = {'output' : output};\n",
    "\n",
    "function pause(){\n",
    "    animating = 0;\n",
    "    if(timer){\n",
    "        clearInterval(timer);\n",
    "        timer = null;\n",
    "    }\n",
    "}\n",
    "\n",
    "function play(){\n",
    "    pause();\n",
    "    animating = +1;\n",
    "    nextFrame();\n",
    "}\n",
    "\n",
    "function reverse(){\n",
    "    pause();\n",
    "    animating = -1;\n",
    "    prevFrame();\n",
    "}\n",
    "\n",
    "function nextFrame(){\n",
    "    count += 1;\n",
    "    var msg_id = kernel.execute(\"disp._get_frame_data(\" + count + \")\", callbacks, {silent:false});\n",
    "}\n",
    "\n",
    "function prevFrame(){\n",
    "    count -= 1;\n",
    "    var msg_id = kernel.execute(\"disp._get_frame_data(\" + count + \")\", callbacks, {silent:false});\n",
    "}\n",
    "\n",
    "// display the first frame\n",
    "setTimeout(nextFrame, 0);\n",
    "\n",
    "</script>\n",
    "\"\"\"\n",
    "\n",
    "# Here we create a class whose HTML representation is the above\n",
    "# HTML and javascript.  Note that we've hard-coded the global\n",
    "# variable name `disp` in the Javascript, so you'll have to assign\n",
    "# the resulting object to this name in order to view it.\n",
    "\n",
    "class DisplayAnimation(object):\n",
    "    def __init__(self, anim):\n",
    "        self.anim = anim\n",
    "        self.fig = anim._fig\n",
    "        plt.close(self.fig)\n",
    "        \n",
    "    def _get_frame_data(self, i):\n",
    "        anim._draw_frame(i)\n",
    "        buffer = StringIO()\n",
    "        fig.savefig(buffer, format='png')\n",
    "        buffer.reset()\n",
    "        data = buffer.read().encode('base64')\n",
    "        return \"data:image/png;base64,{0}\".format(data.replace('\\n', ''))\n",
    "    \n",
    "    def _repr_html_(self):\n",
    "        return disp_html + javascript"
   ]
  },
  {
   "cell_type": "markdown",
   "metadata": {},
   "source": [
    "###### References & Learning Resources#\n",
    "\n",
    "- Gamma, E., Helm, R., Johnson, R., & Vlissides, J. (1995). Gamma, E., Helm, R., Johnson, R., & Vlissides, J. Mar. 1995. Design Patterns–Elements of Reusable Object-Oriented Software. Addison-Wesley.\n",
    "- Jungwoo Ryoo (2015) Python: Design Patterns. Available at: https://www.linkedin.com/learning/python-design-patterns and https://www.lynda.com/Python-tutorials/Design-Patterns-Python/369187-2.html\n",
    "- Phillips D. (2015) Python 3 Object-oriented Programming - Second Edition. PACKT Publishing.\n",
    "- Shalloway, A., & Trott, J. R. (2002). Design patterns explained: A new perspective on object-oriented design. Addison-Wesley\n",
    "- Tutorialspoint (undated) Design Patterns - Command Pattern. Available at https://www.tutorialspoint.com/design_pattern/command_pattern.htm \n",
    "- Tutorialspoint (undated) Design Patterns - Proxy Pattern. Available at https://www.tutorialspoint.com/design_pattern/proxy_pattern.htm\n"
   ]
  }
 ],
 "metadata": {
  "kernelspec": {
   "display_name": "Python 3",
   "language": "python",
   "name": "python3"
  },
  "language_info": {
   "codemirror_mode": {
    "name": "ipython",
    "version": 3
   },
   "file_extension": ".py",
   "mimetype": "text/x-python",
   "name": "python",
   "nbconvert_exporter": "python",
   "pygments_lexer": "ipython3",
   "version": "3.9.6"
  },
  "vscode": {
   "interpreter": {
    "hash": "31f2aee4e71d21fbe5cf8b01ff0e069b9275f58929596ceb00d14d90e3e16cd6"
   }
  }
 },
 "nbformat": 4,
 "nbformat_minor": 4
}
