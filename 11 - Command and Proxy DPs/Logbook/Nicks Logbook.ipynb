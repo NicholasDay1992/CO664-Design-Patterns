{
 "cells": [
  {
   "cell_type": "code",
   "execution_count": null,
   "metadata": {},
   "outputs": [],
   "source": []
  },
  {
   "cell_type": "markdown",
   "metadata": {},
   "source": [
    "## <font color=\"red\">Logbook Exercise 0 (Zero!)</font> ##\n",
    "\n",
    "- Exercise 'zero' is simply to create the logbook that you will eventually submit at the end of the module\n",
    "- Set up a suitable directory for the module and for copies of your Jupyter notebooks\n",
    "- Create a new notebook in the form DP_22222222.ipynb\n",
    " - where DP is for Design Patterns\n",
    " - replace '22222222' with your student ID\n",
    "- Make the first cell a Markdown one with the title for your logbook in the following form \n",
    "\n",
    "```\n",
    "# Design Patterns Logbook #\n",
    "# Richard Turpin #\n",
    "# ID: 12345678 #\n",
    "# May 2020 #\n",
    "```\n",
    "\n",
    "\n",
    "- For the next cell copy the \"Logbook Exercise 1\" Markdown cell from the PythonIntroduction_1.ipynb notebook\n",
    " - NOTE: copy the Markdown not the formatted text, then 'run' the cell\n",
    "- The next cell will be a 'Code' cell for your response to Exercise 1\n",
    "- Continue to update your logbook with Markdown-Exercise and Code-Answer cell pairs for subsequent units\n",
    "- When you have some content, use <font color=\"red\">nbconvert</font> to generate HTML slides from your notebook \n",
    " - to do this start the command terminal from within Anaconda\n",
    " - copy the script in the slide above and paste into a suitable text editor\n",
    " - modify the directory paths and filenames to reflect your environment\n",
    " - paste into the terminal window and execute\n",
    " - <font color=\"red\">Beware</font> of hard returns and spaces that may have crept into your edit ... "
   ]
  },
  {
   "cell_type": "code",
   "execution_count": null,
   "metadata": {},
   "outputs": [],
   "source": []
  },
  {
   "cell_type": "markdown",
   "metadata": {},
   "source": [
    "## <font color=\"red\">Logbook Exercise 2</font> ##\n",
    "\n",
    "Create a 'code' cell below. In this do the following:\n",
    "\n",
    "- line 1 - Use a comment to title your exercise - e.g. \"Unit 2 Exercise\" \n",
    "- line 2 - create a list ... li = [\"USA\",\"Mexico\",\"Canada\"]\n",
    "- line 3 - append \"Greenland\" to the list\n",
    "- l4 - print the list to de,monstrate that Greenland is attached\n",
    "- l5 - remove \"Greenland\"\n",
    "- l6 - print the list to de,monstrate that Greenland is removed\n",
    "- l7 - insert \"Greenland\" at the beginning of the list\n",
    "- l8 - print the resul of l7\n",
    "- l9 - shorthand slice the list to extract the first two items - simultaneausly print the output\n",
    "- l10 - use a negative index to extract the second to last item - simultaneausly print the output\n",
    "- l11 - use a splitting sequence to extract the middle two items - simultaneausly print the output\n",
    "\n",
    "An example of fully described printed output is presented below (some clues here also)\n",
    "Don't worry of your text output is different - it is the contents of the list that matter\n",
    "\n",
    "```\n",
    "li.append('Greenland') gives ...  ['USA', 'Mexico', 'Canada', 'Greenland']\n",
    "li.remove('Greenland') gives ...  ['USA', 'Mexico', 'Canada']\n",
    "li.insert(0,'Greenland') gives ...  ['Greenland', 'USA', 'Mexico', 'Canada']\n",
    "li[:2] gives ...  ['Greenland', 'USA']\n",
    "li[-2] gives ...  Mexico\n",
    "li[1:3] gives ...  ['USA', 'Mexico']\n",
    "```"
   ]
  }
 ],
 "metadata": {
  "kernelspec": {
   "display_name": "Python 3.9.6 64-bit",
   "language": "python",
   "name": "python3"
  },
  "language_info": {
   "name": "python",
   "version": "3.9.6"
  },
  "orig_nbformat": 4,
  "vscode": {
   "interpreter": {
    "hash": "31f2aee4e71d21fbe5cf8b01ff0e069b9275f58929596ceb00d14d90e3e16cd6"
   }
  }
 },
 "nbformat": 4,
 "nbformat_minor": 2
}
